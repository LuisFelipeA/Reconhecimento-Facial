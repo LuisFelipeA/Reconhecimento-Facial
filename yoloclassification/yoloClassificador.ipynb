{
  "cells": [
    {
      "cell_type": "code",
      "execution_count": 1,
      "metadata": {
        "id": "hTM9Q4scAcG8"
      },
      "outputs": [],
      "source": [
        "import os\n",
        "os.chdir('ultralytics')"
      ]
    },
    {
      "cell_type": "code",
      "execution_count": 1,
      "metadata": {
        "id": "DE28K8NpAtV8"
      },
      "outputs": [],
      "source": [
        "from ultralytics import YOLO\n",
        "\n",
        "import cv2\n",
        "import numpy as np\n",
        "import matplotlib.pyplot as plt"
      ]
    },
    {
      "cell_type": "code",
      "execution_count": 2,
      "metadata": {
        "colab": {
          "base_uri": "https://localhost:8080/",
          "height": 235
        },
        "id": "QXGXstSEAhbW",
        "outputId": "8d5a1b27-2d55-48e8-fc02-0de2c4edf06a"
      },
      "outputs": [
        {
          "name": "stderr",
          "output_type": "stream",
          "text": [
            "Ultralytics YOLOv8.0.141 🚀 Python-3.10.9 torch-2.0.1+cu117 CUDA:0 (NVIDIA GeForce MX230, 2001MiB)\n",
            "\u001b[34m\u001b[1mengine/trainer: \u001b[0mtask=classify, mode=train, model=yolov8n-cls.pt, data=/home/diego/Desktop/20ValClassYolo, epochs=10, patience=50, batch=16, imgsz=128, save=True, save_period=-1, cache=False, device=None, workers=8, project=None, name=None, exist_ok=False, pretrained=True, optimizer=auto, verbose=True, seed=0, deterministic=True, single_cls=False, rect=False, cos_lr=False, close_mosaic=10, resume=False, amp=True, fraction=1.0, profile=False, overlap_mask=True, mask_ratio=4, dropout=0.0, val=True, split=val, save_json=False, save_hybrid=False, conf=None, iou=0.7, max_det=300, half=False, dnn=False, plots=True, source=None, show=False, save_txt=False, save_conf=False, save_crop=False, show_labels=True, show_conf=True, vid_stride=1, line_width=None, visualize=False, augment=False, agnostic_nms=False, classes=None, retina_masks=False, boxes=True, format=torchscript, keras=False, optimize=False, int8=False, dynamic=False, simplify=False, opset=None, workspace=4, nms=False, lr0=0.01, lrf=0.01, momentum=0.937, weight_decay=0.0005, warmup_epochs=3.0, warmup_momentum=0.8, warmup_bias_lr=0.1, box=7.5, cls=0.5, dfl=1.5, pose=12.0, kobj=1.0, label_smoothing=0.0, nbs=64, hsv_h=0.015, hsv_s=0.7, hsv_v=0.4, degrees=0.0, translate=0.1, scale=0.5, shear=0.0, perspective=0.0, flipud=0.0, fliplr=0.5, mosaic=1.0, mixup=0.0, copy_paste=0.0, cfg=None, tracker=botsort.yaml, save_dir=runs/classify/train5\n",
            "Overriding model.yaml nc=1000 with nc=8\n",
            "\n",
            "                   from  n    params  module                                       arguments                     \n",
            "  0                  -1  1       464  ultralytics.nn.modules.conv.Conv             [3, 16, 3, 2]                 \n",
            "  1                  -1  1      4672  ultralytics.nn.modules.conv.Conv             [16, 32, 3, 2]                \n",
            "  2                  -1  1      7360  ultralytics.nn.modules.block.C2f             [32, 32, 1, True]             \n",
            "  3                  -1  1     18560  ultralytics.nn.modules.conv.Conv             [32, 64, 3, 2]                \n",
            "  4                  -1  2     49664  ultralytics.nn.modules.block.C2f             [64, 64, 2, True]             \n",
            "  5                  -1  1     73984  ultralytics.nn.modules.conv.Conv             [64, 128, 3, 2]               \n",
            "  6                  -1  2    197632  ultralytics.nn.modules.block.C2f             [128, 128, 2, True]           \n",
            "  7                  -1  1    295424  ultralytics.nn.modules.conv.Conv             [128, 256, 3, 2]              \n",
            "  8                  -1  1    460288  ultralytics.nn.modules.block.C2f             [256, 256, 1, True]           \n",
            "  9                  -1  1    340488  ultralytics.nn.modules.head.Classify         [256, 8]                      \n",
            "YOLOv8n-cls summary: 99 layers, 1448536 parameters, 1448536 gradients\n",
            "Transferred 156/158 items from pretrained weights\n",
            "\u001b[34m\u001b[1mTensorBoard: \u001b[0mStart with 'tensorboard --logdir runs/classify/train5', view at http://localhost:6006/\n",
            "\u001b[34m\u001b[1mAMP: \u001b[0mrunning Automatic Mixed Precision (AMP) checks with YOLOv8n...\n",
            "\u001b[34m\u001b[1mAMP: \u001b[0mchecks passed ✅\n",
            "\u001b[34m\u001b[1moptimizer:\u001b[0m AdamW(lr=0.000714, momentum=0.9) with parameter groups 26 weight(decay=0.0), 27 weight(decay=0.0005), 27 bias(decay=0.0)\n",
            "Image sizes 128 train, 128 val\n",
            "Using 8 dataloader workers\n",
            "Logging results to \u001b[1mruns/classify/train5\u001b[0m\n",
            "Starting training for 10 epochs...\n",
            "Closing dataloader mosaic\n",
            "\n",
            "      Epoch    GPU_mem       loss  Instances       Size\n",
            "       1/10     0.193G     0.4814         12        128: 100%|██████████| 29/29 [00:01<00:00, 14.90it/s]\n",
            "               classes   top1_acc   top5_acc: 100%|██████████| 8/8 [00:00<00:00, 29.09it/s]\n",
            "                   all      0.342      0.926\n",
            "\n",
            "      Epoch    GPU_mem       loss  Instances       Size\n",
            "       2/10     0.193G     0.3277         12        128: 100%|██████████| 29/29 [00:01<00:00, 17.20it/s]\n",
            "               classes   top1_acc   top5_acc: 100%|██████████| 8/8 [00:00<00:00, 32.32it/s]\n",
            "                   all       0.49      0.955\n",
            "\n",
            "      Epoch    GPU_mem       loss  Instances       Size\n",
            "       3/10     0.193G     0.2141         12        128: 100%|██████████| 29/29 [00:01<00:00, 17.32it/s]\n",
            "               classes   top1_acc   top5_acc: 100%|██████████| 8/8 [00:00<00:00, 31.46it/s]\n",
            "                   all      0.527      0.951\n",
            "\n",
            "      Epoch    GPU_mem       loss  Instances       Size\n",
            "       4/10     0.193G     0.1325         12        128: 100%|██████████| 29/29 [00:01<00:00, 17.58it/s]\n",
            "               classes   top1_acc   top5_acc: 100%|██████████| 8/8 [00:00<00:00, 31.77it/s]\n",
            "                   all      0.605      0.955\n",
            "\n",
            "      Epoch    GPU_mem       loss  Instances       Size\n",
            "       5/10      0.18G    0.07373         12        128: 100%|██████████| 29/29 [00:01<00:00, 17.75it/s]\n",
            "               classes   top1_acc   top5_acc: 100%|██████████| 8/8 [00:00<00:00, 30.84it/s]\n",
            "                   all      0.617      0.955\n",
            "\n",
            "      Epoch    GPU_mem       loss  Instances       Size\n",
            "       6/10      0.18G    0.03881         12        128: 100%|██████████| 29/29 [00:01<00:00, 17.63it/s]\n",
            "               classes   top1_acc   top5_acc: 100%|██████████| 8/8 [00:00<00:00, 31.86it/s]\n",
            "                   all       0.63      0.963\n",
            "\n",
            "      Epoch    GPU_mem       loss  Instances       Size\n",
            "       7/10      0.18G    0.02583         12        128: 100%|██████████| 29/29 [00:01<00:00, 17.68it/s]\n",
            "               classes   top1_acc   top5_acc: 100%|██████████| 8/8 [00:00<00:00, 31.96it/s]\n",
            "                   all      0.621      0.959\n",
            "\n",
            "      Epoch    GPU_mem       loss  Instances       Size\n",
            "       8/10     0.182G    0.01712         12        128: 100%|██████████| 29/29 [00:01<00:00, 17.46it/s]\n",
            "               classes   top1_acc   top5_acc: 100%|██████████| 8/8 [00:00<00:00, 32.29it/s]\n",
            "                   all      0.634      0.959\n",
            "\n",
            "      Epoch    GPU_mem       loss  Instances       Size\n",
            "       9/10      0.18G    0.01222         12        128: 100%|██████████| 29/29 [00:01<00:00, 17.68it/s]\n",
            "               classes   top1_acc   top5_acc: 100%|██████████| 8/8 [00:00<00:00, 32.13it/s]\n",
            "                   all      0.605      0.963\n",
            "\n",
            "      Epoch    GPU_mem       loss  Instances       Size\n",
            "      10/10      0.18G   0.009943         12        128: 100%|██████████| 29/29 [00:01<00:00, 17.64it/s]\n",
            "               classes   top1_acc   top5_acc: 100%|██████████| 8/8 [00:00<00:00, 27.40it/s]\n",
            "                   all      0.626      0.959\n",
            "\n",
            "10 epochs completed in 0.007 hours.\n",
            "Optimizer stripped from runs/classify/train5/weights/last.pt, 3.1MB\n",
            "Optimizer stripped from runs/classify/train5/weights/best.pt, 3.1MB\n",
            "Results saved to \u001b[1mruns/classify/train5\u001b[0m\n"
          ]
        }
      ],
      "source": [
        "# Train the model\n",
        "model = YOLO('yolov8n-cls.pt')\n",
        "#model = YOLO('/content/ultralytics/runs/classify/train/weights/best.pt')\n",
        "model.train(data='/home/diego/Desktop/20ValClassYolo', epochs=10, imgsz=128)\n",
        "\n"
      ]
    },
    {
      "cell_type": "code",
      "execution_count": 6,
      "metadata": {
        "colab": {
          "base_uri": "https://localhost:8080/"
        },
        "id": "1o5OpxvhPr48",
        "outputId": "81da0a12-cd96-405f-916d-c92290b7263f"
      },
      "outputs": [
        {
          "name": "stderr",
          "output_type": "stream",
          "text": [
            "\n",
            "image 1/1 /home/diego/Desktop/20ValClassYolo/test/30-35/experimento Cuttollo-BLOCO4-BLOCO4-20-20230717-P17-30-P17-30cm_4_7.jpg: 128x128 30-35 0.99, 35-40 0.00, 45-50 0.00, 40-45 0.00, 50-55 0.00, 4.3ms\n",
            "Speed: 0.9ms preprocess, 4.3ms inference, 0.2ms postprocess per image at shape (1, 3, 128, 128)\n"
          ]
        },
        {
          "name": "stdout",
          "output_type": "stream",
          "text": [
            "Classe predita: 30-35\n"
          ]
        }
      ],
      "source": [
        "pred = model.predict(\"/home/diego/Desktop/20ValClassYolo/test/30-35/experimento Cuttollo-BLOCO4-BLOCO4-20-20230717-P17-30-P17-30cm_4_7.jpg\")\n",
        "\n",
        "max_probability = max(pred)\n",
        "predicted_class_index = pred.index(max_probability)\n",
        "\n",
        "# Supondo que 'classes' seja a lista de nomes das classes na ordem correspondente às probabilidades em 'pred'\n",
        "classes = [\"30-35\", \"50-55\", \"40-45\", \"45-50\", \"20-25\"]\n",
        "\n",
        "print(\"Classe predita:\", classes[predicted_class_index])\n"
      ]
    },
    {
      "cell_type": "code",
      "execution_count": null,
      "metadata": {
        "colab": {
          "base_uri": "https://localhost:8080/",
          "height": 252
        },
        "id": "RHUtE5MTXjgw",
        "outputId": "47057b8a-20c7-49f9-c2a5-01ad41d731f1"
      },
      "outputs": [
        {
          "name": "stderr",
          "output_type": "stream",
          "text": [
            "\n",
            "image 1/1 /home/diego/Desktop/20ValClassYolo/test/35-40/experimento Cuttollo-BLOCO4-BLOCO4-20-20230717-P11-35-P11-35cm_0_7.jpg: 128x128 35-40 0.97, 30-35 0.02, 20-25 0.00, 40-45 0.00, 50-55 0.00, 4.3ms\n",
            "Speed: 0.7ms preprocess, 4.3ms inference, 0.1ms postprocess per image at shape (1, 3, 128, 128)\n"
          ]
        },
        {
          "name": "stdout",
          "output_type": "stream",
          "text": [
            "['0']\n",
            "[]\n",
            "Classe predita: 35-40\n"
          ]
        }
      ],
      "source": [
        "import re\n",
        "pred = model.predict(\"/home/diego/Desktop/20ValClassYolo/test/35-40/experimento Cuttollo-BLOCO4-BLOCO4-20-20230717-P11-35-P11-35cm_0_7.jpg\")\n",
        "\n",
        "# Encontre o índice da classe com maior probabilidade\n",
        "max_probability = max(pred)\n",
        "predicted_class_index = pred.index(max_probability)\n",
        "\n",
        "# Crie uma lista vazia para armazenar os valores do pred.index\n",
        "lista_indices = []\n",
        "\n",
        "# Adicione o valor de pred.index à lista_indices\n",
        "lista_indices.append(str(predicted_class_index))\n",
        "\n",
        "retorno = lista_indices[0]  # Obtemos a primeira string da lista (o retorno)\n",
        "classes = re.findall(r'\\d+-\\d+', retorno)\n",
        "\n",
        "print(classes)\n",
        "quit()\n",
        "\n",
        "# Exemplo do retorno\n",
        "retorno = \"image 1/1 /home/diego/Desktop/20ValClassYolo/test/35-40/experimento Cuttollo-BLOCO4-BLOCO4-20-20230717-P11-35-P11-35cm_0_7.jpg: 128x128 35-40 0.97, 30-35 0.02, 20-25 0.00, 40-45 0.00, 50-55 0.00, 23.8ms preprocess, 23.8ms inference, 0.2ms postprocess per image at shape (1, 3, 128, 128)['0']\"\n",
        "\n",
        "# Encontre a posição do início das probabilidades\n",
        "inicio_probabilidades = retorno.find(\" 128x128 \") + len(\" 128x128 \")\n",
        "\n",
        "# Encontre a posição do último caractere antes do valor variável\n",
        "fim_probabilidades = retorno.rfind(\", \")\n",
        "\n",
        "# Extraia a parte contendo as probabilidades\n",
        "probabilidades_parte = retorno[inicio_probabilidades:fim_probabilidades]\n",
        "\n",
        "# Crie uma lista para armazenar as probabilidades\n",
        "lista_probabilidades = probabilidades_parte.split(\", \")\n",
        "\n",
        "\n",
        "\n",
        "\n",
        "# Crie uma lista vazia para armazenar as classes\n",
        "lista_classes = []\n",
        "\n",
        "# Extraia as classes e adicione-as à lista_classes\n",
        "for probabilidade in lista_probabilidades:\n",
        "    classe = probabilidade.split()[0]\n",
        "    lista_classes.append(classe)\n",
        "\n",
        "max_probability = max(pred)\n",
        "predicted_class_index = pred.index(max_probability)\n",
        "\n",
        "# Supondo que 'classes' seja a lista de nomes das classes na ordem correspondente às probabilidades em 'pred'\n",
        "\n",
        "\n",
        "print(\"Classe predita:\", lista_classes[predicted_class_index])\n",
        "\n",
        "\n"
      ]
    },
    {
      "cell_type": "code",
      "execution_count": null,
      "metadata": {
        "colab": {
          "base_uri": "https://localhost:8080/"
        },
        "id": "M8jolgOWbzq0",
        "outputId": "1cb119d8-fb0f-41dc-d10d-2855558a5268"
      },
      "outputs": [],
      "source": [
        "# Exemplo do retorno\n",
        "retorno = \"/content/20metros/20ValClassYolo/train/30-35/experimento Cuttollo-BLOCO1-BLOCO1-20-20230717-P20-30-P20-30cm_2_7.jpg: 128x128 30-35 0.96, 50-55 0.02, 40-45 0.01, 45-50 0.01, 20-25 0.00, 18.0ms Speed: 0.9ms preprocess, 18.0ms inference, 0.1ms postprocess per image at shape (1, 3, 128, 128) [0]\"\n",
        "\n",
        "# Encontre a posição do início das probabilidades\n",
        "inicio_probabilidades = retorno.find(\" 128x128 \") + len(\" 128x128 \")\n",
        "\n",
        "# Encontre a posição do último caractere antes do valor variável\n",
        "fim_probabilidades = retorno.rfind(\", \")\n",
        "\n",
        "# Extraia a parte contendo as probabilidades\n",
        "probabilidades_parte = retorno[inicio_probabilidades:fim_probabilidades]\n",
        "\n",
        "# Crie uma lista para armazenar as probabilidades\n",
        "lista_probabilidades = probabilidades_parte.split(\", \")\n",
        "\n",
        "# Exiba a lista de probabilidades\n",
        "print(lista_probabilidades)\n"
      ]
    },
    {
      "cell_type": "code",
      "execution_count": null,
      "metadata": {
        "colab": {
          "base_uri": "https://localhost:8080/"
        },
        "id": "-lK3uEGkLxiX",
        "outputId": "e6472b78-035f-4053-fed8-26414c739612"
      },
      "outputs": [],
      "source": [
        "import os\n",
        "import csv\n",
        "\n",
        "# Assuming you have the model and class_dict defined earlier\n",
        "# model = YourModel()\n",
        "class_dict = {0: '10-15', 1: '20-25', 2: '30-35', 3: '35-40', 4: '40-45', 5: '45-50', 6: '50-55', 7: '55-60'}\n",
        "\n",
        "# Function to process a single image\n",
        "def process_single_image(image_path):\n",
        "    pred = model.predict(image_path)\n",
        "    max_prob_class = class_dict[pred.index(max(pred))]\n",
        "    return max_prob_class\n",
        "\n",
        "# Function to process images in a directory and save results to CSV\n",
        "def process_images_in_directory(directory_path, csv_file_path):\n",
        "    with open(csv_file_path, 'w', newline='') as csvfile:\n",
        "        fieldnames = ['Image_Path', 'Predicted_Class']\n",
        "        writer = csv.DictWriter(csvfile, fieldnames=fieldnames)\n",
        "        writer.writeheader()\n",
        "\n",
        "        for root, _, files in os.walk(directory_path):\n",
        "            for file in files:\n",
        "                if file.lower().endswith(('.jpg', '.jpeg', '.png', '.gif')):\n",
        "                    image_path = os.path.join(root, file)\n",
        "                    predicted_class = process_single_image(image_path)\n",
        "                    writer.writerow({'Image_Path': image_path, 'Predicted_Class': predicted_class})\n",
        "\n",
        "# Specify the root directory containing the subfolders with images\n",
        "root_directory = \"/content/20metros/20ValClassYolo/train/\"\n",
        "\n",
        "# Specify the CSV file path to save the results\n",
        "csv_file_path = \"/content/predicted_results2.csv\"\n",
        "\n",
        "# Process images in subfolders and save the results to CSV\n",
        "process_images_in_directory(root_directory, csv_file_path)\n"
      ]
    },
    {
      "cell_type": "code",
      "execution_count": null,
      "metadata": {
        "colab": {
          "base_uri": "https://localhost:8080/"
        },
        "id": "yZ3UNeloymS-",
        "outputId": "76741ed5-0c1f-4cc3-84e0-c9b9c6e0e95b"
      },
      "outputs": [],
      "source": [
        "import os\n",
        "import cv2\n",
        "import numpy as np\n",
        "import csv\n",
        "\n",
        "\n",
        "def load_and_preprocess_image(image_path):\n",
        "    image = cv2.imread(image_path)\n",
        "\n",
        "    return image\n",
        "\n",
        "def predict_image(model, image):\n",
        "\n",
        "    prediction = model.predict(image)\n",
        "    return prediction\n",
        "\n",
        "\n",
        "root_folder = \"/content/20metros/20ValClassYolo/test/\"\n",
        "\n",
        "\n",
        "predictions = []\n",
        "true_labels = []\n",
        "image_paths = []\n",
        "\n",
        "\n",
        "for subfolder in os.listdir(root_folder):\n",
        "    subfolder_path = os.path.join(root_folder, subfolder)\n",
        "    if os.path.isdir(subfolder_path):\n",
        "        for image_file in os.listdir(subfolder_path):\n",
        "            image_path = os.path.join(subfolder_path, image_file)\n",
        "            # Load and preprocess the image\n",
        "            image = load_and_preprocess_image(image_path)\n",
        "            # Get the true label from the folder name or other information\n",
        "            true_label = ...\n",
        "\n",
        "            prediction = predict_image(model, image)\n",
        "            # Store the prediction and true label\n",
        "            predictions.append(prediction)\n",
        "            true_labels.append(true_label)\n",
        "            image_paths.append(image_path)\n",
        "\n",
        "# Save the results to a CSV file\n",
        "csv_file = \"/content/predictions.csv\"\n",
        "with open(csv_file, mode='w', newline='') as file:\n",
        "    writer = csv.writer(file)\n",
        "    #writer.writerow([\"Image_Path\", \"Prediction\"])\n",
        "    for i in range(len(image_paths)):\n",
        "        #writer.writerow([image_paths[i], predictions[i]])\n",
        "        print(predictions[i])\n",
        "\n",
        "\n",
        "\n"
      ]
    }
  ],
  "metadata": {
    "accelerator": "GPU",
    "colab": {
      "gpuType": "T4",
      "provenance": []
    },
    "kernelspec": {
      "display_name": "Python 3",
      "name": "python3"
    },
    "language_info": {
      "codemirror_mode": {
        "name": "ipython",
        "version": 3
      },
      "file_extension": ".py",
      "mimetype": "text/x-python",
      "name": "python",
      "nbconvert_exporter": "python",
      "pygments_lexer": "ipython3",
      "version": "3.10.9"
    }
  },
  "nbformat": 4,
  "nbformat_minor": 0
}
